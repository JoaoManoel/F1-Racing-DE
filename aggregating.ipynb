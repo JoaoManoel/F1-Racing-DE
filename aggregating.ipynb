{
 "cells": [
  {
   "cell_type": "code",
   "execution_count": 1,
   "metadata": {},
   "outputs": [
    {
     "name": "stdout",
     "output_type": "stream",
     "text": [
      "23/05/09 21:20:07 WARN Utils: Your hostname, MacBook-Air.local resolves to a loopback address: 127.0.0.1; using 192.168.1.6 instead (on interface en0)\n",
      "23/05/09 21:20:07 WARN Utils: Set SPARK_LOCAL_IP if you need to bind to another address\n"
     ]
    },
    {
     "name": "stderr",
     "output_type": "stream",
     "text": [
      "Setting default log level to \"WARN\".\n",
      "To adjust logging level use sc.setLogLevel(newLevel). For SparkR, use setLogLevel(newLevel).\n"
     ]
    },
    {
     "name": "stdout",
     "output_type": "stream",
     "text": [
      "23/05/09 21:20:07 WARN NativeCodeLoader: Unable to load native-hadoop library for your platform... using builtin-java classes where applicable\n",
      "23/05/09 21:20:07 WARN Utils: Service 'SparkUI' could not bind on port 4040. Attempting port 4041.\n",
      "23/05/09 21:20:07 WARN Utils: Service 'SparkUI' could not bind on port 4041. Attempting port 4042.\n"
     ]
    }
   ],
   "source": [
    "from pyspark.sql import SparkSession\n",
    "\n",
    "spark = (SparkSession\n",
    "            .builder\n",
    "            .master('local[1]')\n",
    "            .appName('F1-Racing-DE')\n",
    "            .getOrCreate())"
   ]
  },
  {
   "attachments": {},
   "cell_type": "markdown",
   "metadata": {},
   "source": [
    "### Race Results"
   ]
  },
  {
   "cell_type": "code",
   "execution_count": 11,
   "metadata": {},
   "outputs": [],
   "source": [
    "from pyspark.sql.functions import col"
   ]
  },
  {
   "cell_type": "code",
   "execution_count": 24,
   "metadata": {},
   "outputs": [
    {
     "name": "stderr",
     "output_type": "stream",
     "text": [
      "                                                                                \r"
     ]
    }
   ],
   "source": [
    "races_df = spark.read.format('parquet').load('data/processed/races')\n",
    "circuits_df = spark.read.format('parquet').load('data/processed/circuits')\n",
    "drivers_df = spark.read.format('parquet').load('data/processed/drivers')\n",
    "constructors_df = spark.read.format('parquet').load('data/processed/constructors')\n",
    "results_df = spark.read.format('parquet').load('data/processed/results')"
   ]
  },
  {
   "cell_type": "code",
   "execution_count": 25,
   "metadata": {},
   "outputs": [],
   "source": [
    "races_final_df = races_df.select(\n",
    "    col('race_id'),\n",
    "    col('circuit_id'),\n",
    "    col('race_year'), \n",
    "    col('name').alias('race_name'), \n",
    "    col('race_timestamp').alias('race_date')\n",
    ")\n",
    "\n",
    "circuits_final_df = circuits_df.select(\n",
    "    col('circuit_id'),\n",
    "    col('location').alias('circuit_location')\n",
    ")\n",
    "\n",
    "drivers_final_df = drivers_df.select(\n",
    "    col('driver_id'),\n",
    "    col('number').alias('driver_number'),\n",
    "    col('name').alias('driver_name'),\n",
    "    col('nationality').alias('driver_nationality')\n",
    ")\n",
    "\n",
    "constructors_final_df = constructors_df.select(\n",
    "    col('constructor_id'),\n",
    "    col('name').alias('team')\n",
    ")\n",
    "\n",
    "results_final_df = results_df.select(\n",
    "    col('result_id'),\n",
    "    col('race_id'),\n",
    "    col('driver_id'),\n",
    "    col('constructor_id'),\n",
    "    col('time').alias('race_time')\n",
    ")"
   ]
  },
  {
   "cell_type": "code",
   "execution_count": 26,
   "metadata": {},
   "outputs": [],
   "source": [
    "race_circuits_df = races_final_df.join(\n",
    "    circuits_final_df,\n",
    "    races_final_df.circuit_id == circuits_final_df.circuit_id,\n",
    "    how='inner'\n",
    ")"
   ]
  },
  {
   "cell_type": "code",
   "execution_count": 27,
   "metadata": {},
   "outputs": [
    {
     "name": "stdout",
     "output_type": "stream",
     "text": [
      "+-------+----------+---------+--------------------+-------------------+----------+----------------+\n",
      "|race_id|circuit_id|race_year|           race_name|          race_date|circuit_id|circuit_location|\n",
      "+-------+----------+---------+--------------------+-------------------+----------+----------------+\n",
      "|   1098|         3|     2023|  Bahrain Grand Prix|2023-03-05 15:00:00|         3|          Sakhir|\n",
      "|   1099|        77|     2023|Saudi Arabian Gra...|2023-03-19 17:00:00|        77|          Jeddah|\n",
      "|   1100|         1|     2023|Australian Grand ...|2023-04-02 05:00:00|         1|       Melbourne|\n",
      "|   1101|        73|     2023|Azerbaijan Grand ...|2023-04-30 11:00:00|        73|            Baku|\n",
      "|   1102|        79|     2023|    Miami Grand Prix|2023-05-07 19:30:00|        79|           Miami|\n",
      "|   1103|        21|     2023|Emilia Romagna Gr...|2023-05-21 13:00:00|        21|           Imola|\n",
      "|   1104|         6|     2023|   Monaco Grand Prix|2023-05-28 13:00:00|         6|     Monte-Carlo|\n",
      "|   1105|         4|     2023|  Spanish Grand Prix|2023-06-04 13:00:00|         4|        Montmeló|\n",
      "|   1106|         7|     2023| Canadian Grand Prix|2023-06-18 18:00:00|         7|        Montreal|\n",
      "|   1107|        70|     2023| Austrian Grand Prix|2023-07-02 13:00:00|        70|       Spielberg|\n",
      "|   1108|         9|     2023|  British Grand Prix|2023-07-09 14:00:00|         9|     Silverstone|\n",
      "|   1109|        11|     2023|Hungarian Grand Prix|2023-07-23 13:00:00|        11|        Budapest|\n",
      "|   1110|        13|     2023|  Belgian Grand Prix|2023-07-30 13:00:00|        13|             Spa|\n",
      "|   1111|        39|     2023|    Dutch Grand Prix|2023-08-27 13:00:00|        39|       Zandvoort|\n",
      "|   1112|        14|     2023|  Italian Grand Prix|2023-09-03 13:00:00|        14|           Monza|\n",
      "|   1113|        15|     2023|Singapore Grand Prix|2023-09-17 12:00:00|        15|      Marina Bay|\n",
      "|   1114|        22|     2023| Japanese Grand Prix|2023-09-24 05:00:00|        22|          Suzuka|\n",
      "|   1115|        78|     2023|    Qatar Grand Prix|2023-10-08 14:00:00|        78|       Al Daayen|\n",
      "|   1116|        69|     2023|United States Gra...|2023-10-22 19:00:00|        69|          Austin|\n",
      "|   1117|        32|     2023|Mexico City Grand...|2023-10-29 20:00:00|        32|     Mexico City|\n",
      "+-------+----------+---------+--------------------+-------------------+----------+----------------+\n",
      "only showing top 20 rows\n",
      "\n"
     ]
    }
   ],
   "source": [
    "race_circuits_df.show()"
   ]
  },
  {
   "cell_type": "code",
   "execution_count": null,
   "metadata": {},
   "outputs": [],
   "source": []
  }
 ],
 "metadata": {
  "kernelspec": {
   "display_name": "venv",
   "language": "python",
   "name": "venv"
  },
  "language_info": {
   "codemirror_mode": {
    "name": "ipython",
    "version": 3
   },
   "file_extension": ".py",
   "mimetype": "text/x-python",
   "name": "python",
   "nbconvert_exporter": "python",
   "pygments_lexer": "ipython3",
   "version": "3.9.2"
  },
  "orig_nbformat": 4
 },
 "nbformat": 4,
 "nbformat_minor": 2
}
