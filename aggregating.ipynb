{
 "cells": [
  {
   "cell_type": "code",
   "execution_count": 1,
   "metadata": {},
   "outputs": [
    {
     "name": "stdout",
     "output_type": "stream",
     "text": [
      "23/05/09 21:51:32 WARN Utils: Your hostname, MacBook-Air.local resolves to a loopback address: 127.0.0.1; using 192.168.1.6 instead (on interface en0)\n",
      "23/05/09 21:51:32 WARN Utils: Set SPARK_LOCAL_IP if you need to bind to another address\n"
     ]
    },
    {
     "name": "stderr",
     "output_type": "stream",
     "text": [
      "Setting default log level to \"WARN\".\n",
      "To adjust logging level use sc.setLogLevel(newLevel). For SparkR, use setLogLevel(newLevel).\n"
     ]
    },
    {
     "name": "stdout",
     "output_type": "stream",
     "text": [
      "23/05/09 21:51:33 WARN NativeCodeLoader: Unable to load native-hadoop library for your platform... using builtin-java classes where applicable\n"
     ]
    }
   ],
   "source": [
    "from pyspark.sql import SparkSession\n",
    "\n",
    "spark = (SparkSession\n",
    "            .builder\n",
    "            .master('local[1]')\n",
    "            .appName('F1-Racing-DE')\n",
    "            .getOrCreate())"
   ]
  },
  {
   "attachments": {},
   "cell_type": "markdown",
   "metadata": {},
   "source": [
    "### Race Results"
   ]
  },
  {
   "cell_type": "code",
   "execution_count": 7,
   "metadata": {},
   "outputs": [],
   "source": [
    "from pyspark.sql.functions import col, current_timestamp"
   ]
  },
  {
   "cell_type": "code",
   "execution_count": 3,
   "metadata": {},
   "outputs": [
    {
     "name": "stderr",
     "output_type": "stream",
     "text": [
      "                                                                                \r"
     ]
    }
   ],
   "source": [
    "races_df = spark.read.format('parquet').load('data/processed/races')\n",
    "circuits_df = spark.read.format('parquet').load('data/processed/circuits')\n",
    "drivers_df = spark.read.format('parquet').load('data/processed/drivers')\n",
    "constructors_df = spark.read.format('parquet').load('data/processed/constructors')\n",
    "results_df = spark.read.format('parquet').load('data/processed/results')"
   ]
  },
  {
   "cell_type": "code",
   "execution_count": 28,
   "metadata": {},
   "outputs": [],
   "source": [
    "races_final_df = races_df.select(\n",
    "    col('race_id'),\n",
    "    col('circuit_id'),\n",
    "    col('race_year'), \n",
    "    col('name').alias('race_name'), \n",
    "    col('race_timestamp').alias('race_date')\n",
    ")\n",
    "\n",
    "circuits_final_df = circuits_df.select(\n",
    "    col('circuit_id'),\n",
    "    col('location').alias('circuit_location')\n",
    ")\n",
    "\n",
    "drivers_final_df = drivers_df.select(\n",
    "    col('driver_id'),\n",
    "    col('number').alias('driver_number'),\n",
    "    col('name').alias('driver_name'),\n",
    "    col('nationality').alias('driver_nationality')\n",
    ")\n",
    "\n",
    "constructors_final_df = constructors_df.select(\n",
    "    col('constructor_id'),\n",
    "    col('name').alias('team')\n",
    ")\n",
    "\n",
    "results_final_df = results_df.select(\n",
    "    col('result_id'),\n",
    "    col('race_id'),\n",
    "    col('driver_id'),\n",
    "    col('constructor_id'),\n",
    "    col('position'),\n",
    "    col('grid'),\n",
    "    col('fastest_lap'),\n",
    "    col('points'),\n",
    "    col('time').alias('race_time')\n",
    ")"
   ]
  },
  {
   "cell_type": "code",
   "execution_count": 29,
   "metadata": {},
   "outputs": [],
   "source": [
    "race_circuits_df = races_final_df.join(\n",
    "    circuits_final_df,\n",
    "    races_final_df.circuit_id == circuits_final_df.circuit_id,\n",
    "    how='inner'\n",
    ")"
   ]
  },
  {
   "cell_type": "code",
   "execution_count": 30,
   "metadata": {},
   "outputs": [],
   "source": [
    "race_results_df = results_final_df \\\n",
    "    .join(\n",
    "        race_circuits_df, results_final_df.race_id == race_circuits_df.race_id\n",
    "    ) \\\n",
    "    .join(\n",
    "        drivers_final_df, results_final_df.driver_id == drivers_final_df.driver_id\n",
    "    ) \\\n",
    "    .join(\n",
    "        constructors_final_df, results_final_df.constructor_id == constructors_final_df.constructor_id\n",
    "    )\n"
   ]
  },
  {
   "cell_type": "code",
   "execution_count": 35,
   "metadata": {},
   "outputs": [],
   "source": [
    "race_results_final_df = race_results_df.select(\n",
    "    'race_year',\n",
    "    'race_name',\n",
    "    'race_date',\n",
    "    'circuit_location',\n",
    "    'driver_name',\n",
    "    'driver_number',\n",
    "    'driver_nationality',\n",
    "    'team',\n",
    "    'grid',\n",
    "    'position',\n",
    "    'fastest_lap',\n",
    "    'race_time',\n",
    "    'points'\n",
    ")\\\n",
    ".withColumn('created_date', current_timestamp())"
   ]
  },
  {
   "cell_type": "code",
   "execution_count": 48,
   "metadata": {},
   "outputs": [
    {
     "name": "stderr",
     "output_type": "stream",
     "text": [
      "                                                                                \r"
     ]
    }
   ],
   "source": [
    "race_results_final_df.write.mode('overwrite').parquet('data/presentation/race_results')"
   ]
  },
  {
   "attachments": {},
   "cell_type": "markdown",
   "metadata": {},
   "source": [
    "### Driver Standings"
   ]
  },
  {
   "cell_type": "code",
   "execution_count": 54,
   "metadata": {},
   "outputs": [],
   "source": [
    "from pyspark.sql.functions import sum, when, count, col"
   ]
  },
  {
   "cell_type": "code",
   "execution_count": 51,
   "metadata": {},
   "outputs": [],
   "source": [
    "race_results_df = spark.read.format('parquet').load('data/presentation/race_results')"
   ]
  },
  {
   "cell_type": "code",
   "execution_count": 67,
   "metadata": {},
   "outputs": [],
   "source": [
    "driver_standings_df = race_results_df \\\n",
    "    .groupBy('race_year', 'driver_name', 'driver_nationality', 'team') \\\n",
    "    .agg(\n",
    "        sum('points').alias('total_points'),\n",
    "        count(when(col('position') == 1, True)).alias('wins')\n",
    "    )"
   ]
  },
  {
   "cell_type": "code",
   "execution_count": 77,
   "metadata": {},
   "outputs": [],
   "source": [
    "driver_standings_df.write.mode('overwrite').parquet('data/presentation/driver_standings')"
   ]
  },
  {
   "attachments": {},
   "cell_type": "markdown",
   "metadata": {},
   "source": [
    "### Constructor Standings"
   ]
  },
  {
   "cell_type": "code",
   "execution_count": 78,
   "metadata": {},
   "outputs": [],
   "source": [
    "from pyspark.sql.functions import sum, when, count, col"
   ]
  },
  {
   "cell_type": "code",
   "execution_count": 79,
   "metadata": {},
   "outputs": [],
   "source": [
    "race_results_df = spark.read.format('parquet').load('data/presentation/race_results')"
   ]
  },
  {
   "cell_type": "code",
   "execution_count": 89,
   "metadata": {},
   "outputs": [],
   "source": [
    "constructor_standings_df = race_results_df \\\n",
    "    .groupBy('race_year', 'team') \\\n",
    "    .agg(\n",
    "        sum('points').alias('total_points'),\n",
    "        count(when(col('position') == 1, True)).alias('wins')\n",
    "    )"
   ]
  },
  {
   "cell_type": "code",
   "execution_count": 90,
   "metadata": {},
   "outputs": [],
   "source": [
    "constructor_standings_df.write.mode('overwrite').parquet('data/presentation/constructor_standings')"
   ]
  }
 ],
 "metadata": {
  "kernelspec": {
   "display_name": "venv",
   "language": "python",
   "name": "venv"
  },
  "language_info": {
   "codemirror_mode": {
    "name": "ipython",
    "version": 3
   },
   "file_extension": ".py",
   "mimetype": "text/x-python",
   "name": "python",
   "nbconvert_exporter": "python",
   "pygments_lexer": "ipython3",
   "version": "3.9.2"
  },
  "orig_nbformat": 4
 },
 "nbformat": 4,
 "nbformat_minor": 2
}
